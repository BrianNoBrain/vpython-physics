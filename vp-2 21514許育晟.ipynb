{
 "cells": [
  {
   "cell_type": "code",
   "execution_count": 17,
   "metadata": {
    "scrolled": true
   },
   "outputs": [
    {
     "data": {
      "text/html": [
       "<div id=\"glowscript\" class=\"glowscript\"></div>"
      ],
      "text/plain": [
       "<IPython.core.display.HTML object>"
      ]
     },
     "metadata": {},
     "output_type": "display_data"
    },
    {
     "data": {
      "application/javascript": [
       "if (typeof Jupyter !== \"undefined\") { window.__context = { glowscript_container: $(\"#glowscript\").removeAttr(\"id\")};}else{ element.textContent = ' ';}"
      ],
      "text/plain": [
       "<IPython.core.display.Javascript object>"
      ]
     },
     "metadata": {},
     "output_type": "display_data"
    }
   ],
   "source": [
    "# example\n",
    "from vpython import *\n",
    "\n",
    "scene = canvas(width=400, height=400, center=vector(0,0.06,0), background=vec(0.5,0.5,0.5))\n",
    "floor = box(pos=vector(0,0,0), length=0.3, height=0.005, width=-0.1, color=color.cyan, texture=textures.stucco)\n",
    "cube = box(pos=vector(-0.1, 0.05/2, 0), length=0.05, height=0.05, width=0.05, color=color.blue)\n",
    "                                                                                                         \n",
    "while cube.pos.x < 0.1:\n",
    "    rate(100)\n",
    "    cube.pos.x = cube.pos.x + 0.001"
   ]
  },
  {
   "cell_type": "code",
   "execution_count": 12,
   "metadata": {
    "scrolled": true
   },
   "outputs": [
    {
     "data": {
      "text/html": [
       "<div id=\"glowscript\" class=\"glowscript\"></div>"
      ],
      "text/plain": [
       "<IPython.core.display.HTML object>"
      ]
     },
     "metadata": {},
     "output_type": "display_data"
    },
    {
     "data": {
      "application/javascript": [
       "if (typeof Jupyter !== \"undefined\") { window.__context = { glowscript_container: $(\"#glowscript\").removeAttr(\"id\")};}else{ element.textContent = ' ';}"
      ],
      "text/plain": [
       "<IPython.core.display.Javascript object>"
      ]
     },
     "metadata": {},
     "output_type": "display_data"
    }
   ],
   "source": [
    "# practice\n",
    "from vpython import *\n",
    "\n",
    "t = 0\n",
    "dt = 0.002\n",
    "\n",
    "scene = canvas(width=400, height=400, center=vector(0,0.06,0), background=vec(0.5,0.5,0.5))\n",
    "floor = box(pos=vector(0,0,0), length=0.3, height=0.005, width=0.3, color=color.green, texture=textures.stucco)\n",
    "cube = box(pos=vector(0.125, 0.05/2, 0.125), length=0.05, height=0.05, width=0.05, color=color.blue)"
   ]
  },
  {
   "cell_type": "code",
   "execution_count": null,
   "metadata": {},
   "outputs": [
    {
     "name": "stdout",
     "output_type": "stream",
     "text": [
      "t = 2.0000000000000013\n",
      "t = 3.999999999999781\n",
      "t = 5.999999999999561\n",
      "t = 7.999999999999341\n",
      "t = 10.000000000000009\n",
      "t = 12.000000000000677\n",
      "t = 14.000000000001345\n",
      "t = 16.00000000000201\n",
      "t = 18.000000000000902\n",
      "t = 19.999999999999794\n",
      "t = 21.999999999998685\n",
      "t = 23.999999999997577\n",
      "t = 25.99999999999647\n",
      "t = 27.99999999999536\n",
      "t = 29.99999999999425\n",
      "t = 31.999999999993143\n",
      "t = 33.99999999999559\n",
      "t = 35.99999999999803\n",
      "t = 38.000000000000476\n",
      "t = 40.00000000000292\n",
      "t = 42.000000000005365\n",
      "t = 44.00000000000781\n",
      "t = 46.00000000001025\n",
      "t = 48.0000000000127\n",
      "t = 50.00000000001514\n",
      "t = 52.000000000017586\n",
      "t = 54.00000000002003\n",
      "t = 56.000000000022474\n",
      "t = 58.00000000002492\n",
      "t = 60.00000000002736\n",
      "t = 62.00000000002981\n",
      "t = 64.00000000003224\n",
      "t = 66.00000000002758\n",
      "t = 68.00000000002292\n",
      "t = 70.00000000001826\n",
      "t = 72.0000000000136\n",
      "t = 74.00000000000894\n",
      "t = 76.00000000000428\n",
      "t = 77.99999999999962\n",
      "t = 79.99999999999496\n",
      "t = 81.9999999999903\n",
      "t = 83.99999999998563\n",
      "t = 85.99999999998097\n",
      "t = 87.99999999997631\n",
      "t = 89.99999999997165\n",
      "t = 91.99999999996699\n",
      "t = 93.99999999996233\n",
      "t = 95.99999999995767\n",
      "t = 97.999999999953\n",
      "t = 99.99999999994834\n",
      "t = 101.99999999994368\n",
      "t = 103.99999999993902\n",
      "t = 105.99999999993436\n",
      "t = 107.9999999999297\n",
      "t = 109.99999999992504\n",
      "t = 111.99999999992038\n",
      "t = 113.99999999991572\n",
      "t = 115.99999999991105\n",
      "t = 117.9999999999064\n",
      "t = 119.99999999990173\n",
      "t = 121.99999999989707\n",
      "t = 123.99999999989241\n",
      "t = 125.99999999988775\n",
      "t = 127.99999999988309\n",
      "t = 129.99999999989262\n",
      "t = 131.99999999990217\n",
      "t = 133.99999999991172\n",
      "t = 135.99999999992127\n",
      "t = 137.99999999993082\n",
      "t = 139.99999999994037\n",
      "t = 141.99999999994992\n",
      "t = 143.99999999995947\n",
      "t = 145.99999999996902\n",
      "t = 147.99999999997857\n",
      "t = 149.99999999998812\n",
      "t = 151.99999999999767\n",
      "t = 154.00000000000722\n",
      "t = 156.00000000001677\n",
      "t = 158.00000000002632\n",
      "t = 160.00000000003587\n",
      "t = 162.00000000004542\n",
      "t = 164.00000000005497\n",
      "t = 166.00000000006452\n",
      "t = 168.00000000007407\n",
      "t = 170.00000000008362\n",
      "t = 172.00000000009317\n",
      "t = 174.00000000010272\n",
      "t = 176.00000000011227\n",
      "t = 178.00000000012182\n",
      "t = 180.00000000013137\n",
      "t = 182.00000000014091\n",
      "t = 184.00000000015046\n",
      "t = 186.00000000016001\n",
      "t = 188.00000000016956\n",
      "t = 190.0000000001791\n",
      "t = 192.00000000018866\n",
      "t = 194.0000000001982\n",
      "t = 196.00000000020776\n",
      "t = 198.0000000002173\n",
      "t = 200.00000000022686\n",
      "t = 202.0000000002364\n",
      "t = 204.00000000024596\n",
      "t = 206.0000000002555\n",
      "t = 208.00000000026506\n",
      "t = 210.0000000002746\n",
      "t = 212.00000000028416\n",
      "t = 214.0000000002937\n",
      "t = 216.00000000030326\n",
      "t = 218.0000000003128\n"
     ]
    }
   ],
   "source": [
    "while True:\n",
    "    while cube.pos.x > -0.125:\n",
    "        rate(500)\n",
    "        cube.pos.x = cube.pos.x - 0.001\n",
    "        t+=dt\n",
    "\n",
    "    while cube.pos.z > -0.125:\n",
    "        rate(500)\n",
    "        cube.pos.z = cube.pos.z - 0.001\n",
    "        t+=dt\n",
    "\n",
    "    while cube.pos.x < 0.125:\n",
    "        rate(500)\n",
    "        cube.pos.x = cube.pos.x + 0.001\n",
    "        t+=dt\n",
    "\n",
    "    while cube.pos.z < 0.125:\n",
    "        rate(500)\n",
    "        cube.pos.z = cube.pos.z + 0.001\n",
    "        t+=dt\n",
    "    print(\"t =\", t)\n"
   ]
  },
  {
   "cell_type": "code",
   "execution_count": null,
   "metadata": {},
   "outputs": [],
   "source": []
  }
 ],
 "metadata": {
  "kernelspec": {
   "display_name": "Python 3",
   "language": "python",
   "name": "python3"
  },
  "language_info": {
   "codemirror_mode": {
    "name": "ipython",
    "version": 3
   },
   "file_extension": ".py",
   "mimetype": "text/x-python",
   "name": "python",
   "nbconvert_exporter": "python",
   "pygments_lexer": "ipython3",
   "version": "3.8.5"
  }
 },
 "nbformat": 4,
 "nbformat_minor": 4
}
