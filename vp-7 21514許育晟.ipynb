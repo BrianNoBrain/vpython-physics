{
 "cells": [
  {
   "cell_type": "code",
   "execution_count": 103,
   "metadata": {},
   "outputs": [],
   "source": [
    "from vpython import *"
   ]
  },
  {
   "cell_type": "code",
   "execution_count": 104,
   "metadata": {},
   "outputs": [],
   "source": [
    "size = 2\n",
    "v0 = 20\n",
    "r = 10\n",
    "R = 3*r\n",
    "t = 0\n",
    "dt = 0.001\n",
    "universe = \"https://static.independent.co.uk/s3fs-public/thumbnails/image/2015/11/11/16/subaru-telescope-picture.jpg\"\n",
    "earth = \"https://previews.123rf.com/images/antonshahrai/antonshahrai2007/antonshahrai200700006/151534030-world-texture-satellite-image-of-the-earth-high-resolution-texture-of-the-planet-with-relief.jpg\""
   ]
  },
  {
   "cell_type": "code",
   "execution_count": 105,
   "metadata": {},
   "outputs": [
    {
     "data": {
      "text/html": [
       "<div id=\"glowscript\" class=\"glowscript\"></div>"
      ],
      "text/plain": [
       "<IPython.core.display.HTML object>"
      ]
     },
     "metadata": {},
     "output_type": "display_data"
    },
    {
     "data": {
      "application/javascript": [
       "if (typeof Jupyter !== \"undefined\") { window.__context = { glowscript_container: $(\"#glowscript\").removeAttr(\"id\")};}else{ element.textContent = ' ';}"
      ],
      "text/plain": [
       "<IPython.core.display.Javascript object>"
      ]
     },
     "metadata": {},
     "output_type": "display_data"
    }
   ],
   "source": [
    "scene = canvas(title=\"circle\", width=800, height=600, background=vec(0.5,0.5,0.5))\n",
    "floor = cylinder(pos=vec(0,size,0), axis=vector(0,-2*size,0), radius=R, texture=universe)\n",
    "center = cylinder(pos=vec(0,size,0), axis=vector(0,5*size,0), radius=0.05*R, texture=textures.metal)"
   ]
  },
  {
   "cell_type": "code",
   "execution_count": 106,
   "metadata": {},
   "outputs": [
    {
     "name": "stdout",
     "output_type": "stream",
     "text": [
      "velocity = 20\n",
      "period = 3.141592653589793\n",
      "acceleration = 40.0\n"
     ]
    }
   ],
   "source": [
    "ball = sphere(pos=vec(r,2*size,0), radius=size, color=color.white, v=vec(0,0,v0), make_trail=1, retain=10, texture=earth)\n",
    "print(\"velocity =\", v0)\n",
    "print(\"period =\", 2*pi*r/v0)\n",
    "print(\"acceleration =\", v0**2/r)"
   ]
  },
  {
   "cell_type": "code",
   "execution_count": 107,
   "metadata": {},
   "outputs": [],
   "source": [
    "gdx = graph(title=\"x-t plot\", width=400, height=200, x=0, y=400, xtitle=\"t(s)\", ytitle=\"x(m)\", xmax=20)\n",
    "xt = gcurve(graph=gdx, color=color.red)\n",
    "\n",
    "gdv = graph(title=\"v-t plot\", width=400, height=200, x=0, y=400, xtitle=\"t(s)\", ytitle=\"v(m/s)\", xmax=20)\n",
    "vt = gcurve(graph=gdv, color=color.blue)\n",
    "\n",
    "gda = graph(title=\"a-t plot\", width=400, height=200, x=0, y=400, xtitle=\"t(s)\", ytitle=\"a(m/s^2)\", xmax=20)\n",
    "at = gcurve(graph=gda, color=color.green)"
   ]
  },
  {
   "cell_type": "code",
   "execution_count": null,
   "metadata": {},
   "outputs": [],
   "source": [
    "arrow_v = arrow(pos=ball.pos, axis=ball.v, shaftwidth=1, color=color.yellow)\n",
    "arrow_a = arrow(pos=ball.pos, shaftwidth=1, color=color.green)\n",
    "label_v = label(pos=ball.pos, text=ball.v, box=0)\n",
    "label_a = label(pos=ball.pos, box=0)\n",
    "\n",
    "while(1):\n",
    "    rate(1000)\n",
    "    axis = vec(0,2*size,0)-ball.pos\n",
    "    ball.a = ((ball.v.mag2)/r)*axis.norm()\n",
    "    ball.v+=ball.a*dt\n",
    "    ball.pos+=ball.v*dt\n",
    "    \n",
    "    arrow_v.pos = ball.pos\n",
    "    arrow_v.axis = ball.v\n",
    "    label_v.pos = ball.pos+ball.v/2\n",
    "    label_v.text = ball.v\n",
    "    arrow_a.pos = ball.pos\n",
    "    arrow_a.axis = ball.a\n",
    "    label_a.pos = ball.pos+ball.a/2\n",
    "    label_a.text = ball.a\n",
    "    \n",
    "    xt.plot(pos=(t,ball.pos.x))\n",
    "    vt.plot(pos=(t,ball.v.x))\n",
    "    at.plot(pos=(t,ball.a.x))\n",
    "    \n",
    "    t+=dt"
   ]
  }
 ],
 "metadata": {
  "kernelspec": {
   "display_name": "Python 3",
   "language": "python",
   "name": "python3"
  },
  "language_info": {
   "codemirror_mode": {
    "name": "ipython",
    "version": 3
   },
   "file_extension": ".py",
   "mimetype": "text/x-python",
   "name": "python",
   "nbconvert_exporter": "python",
   "pygments_lexer": "ipython3",
   "version": "3.8.5"
  }
 },
 "nbformat": 4,
 "nbformat_minor": 4
}
