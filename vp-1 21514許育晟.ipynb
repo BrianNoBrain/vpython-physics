{
 "cells": [
  {
   "cell_type": "code",
   "execution_count": 14,
   "metadata": {
    "scrolled": false
   },
   "outputs": [
    {
     "name": "stdout",
     "output_type": "stream",
     "text": [
      "a = 1\n",
      "b = 1\n",
      "a <= b\n",
      "a = b\n"
     ]
    }
   ],
   "source": [
    "# I am comment\n",
    "\"\"\"\n",
    "I am long comment\n",
    "\"\"\"\n",
    "\n",
    "a = input(\"a = \")\n",
    "b = input(\"b = \")\n",
    "\n",
    "if a > b:\n",
    "    print(\"a > b\")\n",
    "else:\n",
    "    print(\"a <= b\")\n",
    "\n",
    "if a > b:\n",
    "    print(\"a > b\")\n",
    "elif a == b:\n",
    "    print(\"a = b\")\n",
    "else:\n",
    "    print(\"a < b\")"
   ]
  },
  {
   "cell_type": "code",
   "execution_count": 15,
   "metadata": {},
   "outputs": [
    {
     "name": "stdout",
     "output_type": "stream",
     "text": [
      "i =  1\n",
      "i =  2\n",
      "i =  3\n",
      "i =  4\n",
      "i =  5\n",
      "i =  6\n",
      "i =  7\n",
      "i =  8\n",
      "i =  9\n",
      "i =  10\n",
      "result =  55\n"
     ]
    }
   ],
   "source": [
    "#example\n",
    "result = 0\n",
    "i = 1\n",
    "n = 10\n",
    "\n",
    "while i <= n:\n",
    "    print(\"i = \", i)\n",
    "    result += i\n",
    "    i += 1\n",
    "\n",
    "print(\"result = \", result)"
   ]
  },
  {
   "cell_type": "code",
   "execution_count": 16,
   "metadata": {},
   "outputs": [
    {
     "name": "stdout",
     "output_type": "stream",
     "text": [
      "i =  1\n",
      "i =  3\n",
      "i =  5\n",
      "i =  7\n",
      "i =  9\n",
      "i =  11\n",
      "i =  13\n",
      "i =  15\n",
      "i =  17\n",
      "i =  19\n",
      "i =  21\n",
      "i =  23\n",
      "i =  25\n",
      "i =  27\n",
      "i =  29\n",
      "i =  31\n",
      "i =  33\n",
      "i =  35\n",
      "i =  37\n",
      "i =  39\n",
      "i =  41\n",
      "i =  43\n",
      "i =  45\n",
      "i =  47\n",
      "i =  49\n",
      "i =  51\n",
      "i =  53\n",
      "i =  55\n",
      "i =  57\n",
      "i =  59\n",
      "i =  61\n",
      "i =  63\n",
      "i =  65\n",
      "i =  67\n",
      "i =  69\n",
      "i =  71\n",
      "i =  73\n",
      "i =  75\n",
      "i =  77\n",
      "i =  79\n",
      "i =  81\n",
      "i =  83\n",
      "i =  85\n",
      "i =  87\n",
      "i =  89\n",
      "i =  91\n",
      "i =  93\n",
      "i =  95\n",
      "i =  97\n",
      "i =  99\n",
      "result =  2500\n"
     ]
    }
   ],
   "source": [
    "#practice\n",
    "result = 0\n",
    "i = 1\n",
    "n = 100\n",
    "\n",
    "while i <= n:\n",
    "    print(\"i = \", i)\n",
    "    result += i\n",
    "    i += 2\n",
    "\n",
    "print(\"result = \", result)"
   ]
  },
  {
   "cell_type": "code",
   "execution_count": 17,
   "metadata": {},
   "outputs": [
    {
     "name": "stdout",
     "output_type": "stream",
     "text": [
      "i =  1\n",
      "i =  2\n",
      "i =  3\n",
      "i =  4\n",
      "i =  5\n",
      "i =  6\n",
      "i =  7\n",
      "i =  8\n",
      "i =  9\n",
      "i =  10\n",
      "result =  55\n"
     ]
    }
   ],
   "source": [
    "#example\n",
    "result = 0\n",
    "\n",
    "for i in range(1, 11):\n",
    "    print(\"i = \", i)\n",
    "    result += i\n",
    "    \n",
    "print(\"result = \", result)"
   ]
  },
  {
   "cell_type": "code",
   "execution_count": 18,
   "metadata": {},
   "outputs": [
    {
     "name": "stdout",
     "output_type": "stream",
     "text": [
      "i =  -1\n",
      "i =  -3\n",
      "i =  -5\n",
      "i =  -7\n",
      "i =  -9\n",
      "i =  -11\n",
      "i =  -13\n",
      "i =  -15\n",
      "i =  -17\n",
      "i =  -19\n",
      "i =  -21\n",
      "i =  -23\n",
      "i =  -25\n",
      "i =  -27\n",
      "i =  -29\n",
      "i =  -31\n",
      "i =  -33\n",
      "i =  -35\n",
      "i =  -37\n",
      "i =  -39\n",
      "i =  -41\n",
      "i =  -43\n",
      "i =  -45\n",
      "i =  -47\n",
      "i =  -49\n",
      "i =  -51\n",
      "i =  -53\n",
      "i =  -55\n",
      "i =  -57\n",
      "i =  -59\n",
      "i =  -61\n",
      "i =  -63\n",
      "i =  -65\n",
      "i =  -67\n",
      "i =  -69\n",
      "i =  -71\n",
      "i =  -73\n",
      "i =  -75\n",
      "i =  -77\n",
      "i =  -79\n",
      "i =  -81\n",
      "i =  -83\n",
      "i =  -85\n",
      "i =  -87\n",
      "i =  -89\n",
      "i =  -91\n",
      "i =  -93\n",
      "i =  -95\n",
      "i =  -97\n",
      "i =  -99\n",
      "result =  -2500\n"
     ]
    }
   ],
   "source": [
    "#practice\n",
    "result = 0\n",
    "\n",
    "for i in range(0, -100, -1):\n",
    "    if i%2 == 0:\n",
    "        continue\n",
    "    print(\"i = \", i)\n",
    "    result += i\n",
    "    \n",
    "print(\"result = \", result)"
   ]
  },
  {
   "cell_type": "code",
   "execution_count": null,
   "metadata": {},
   "outputs": [],
   "source": []
  }
 ],
 "metadata": {
  "kernelspec": {
   "display_name": "Python 3",
   "language": "python",
   "name": "python3"
  },
  "language_info": {
   "codemirror_mode": {
    "name": "ipython",
    "version": 3
   },
   "file_extension": ".py",
   "mimetype": "text/x-python",
   "name": "python",
   "nbconvert_exporter": "python",
   "pygments_lexer": "ipython3",
   "version": "3.8.5"
  }
 },
 "nbformat": 4,
 "nbformat_minor": 4
}
