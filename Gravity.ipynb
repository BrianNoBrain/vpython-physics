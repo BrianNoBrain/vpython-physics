{
 "cells": [
  {
   "cell_type": "code",
   "execution_count": 6,
   "metadata": {},
   "outputs": [],
   "source": [
    "from vpython import *\n",
    "import random"
   ]
  },
  {
   "cell_type": "code",
   "execution_count": 7,
   "metadata": {},
   "outputs": [],
   "source": [
    "G = 6.67*10e-11\n",
    "AU = 1.496*10e11\n",
    "scale = AU\n",
    "border = 50\n",
    "dt = 0.001\n",
    "t = 0\n",
    "xpos_min = -50\n",
    "xpos_max = 50\n",
    "ypos_min = -50\n",
    "ypos_max = 50"
   ]
  },
  {
   "cell_type": "code",
   "execution_count": 8,
   "metadata": {},
   "outputs": [
    {
     "data": {
      "text/html": [
       "<div id=\"glowscript\" class=\"glowscript\"></div>"
      ],
      "text/plain": [
       "<IPython.core.display.HTML object>"
      ]
     },
     "metadata": {},
     "output_type": "display_data"
    },
    {
     "data": {
      "application/javascript": [
       "if (typeof Jupyter !== \"undefined\") { window.__context = { glowscript_container: $(\"#glowscript\").removeAttr(\"id\")};}else{ element.textContent = ' ';}"
      ],
      "text/plain": [
       "<IPython.core.display.Javascript object>"
      ]
     },
     "metadata": {},
     "output_type": "display_data"
    }
   ],
   "source": [
    "scene = canvas(width=600, height=400, background=vector(0.5,0.6,0.5))\n",
    "ball = []\n",
    "for i in range(10):\n",
    "    ball.append( sphere(\n",
    "        radius=random.uniform(1, 5), \n",
    "        pos=vector(random.uniform(xpos_min,xpos_max),random.uniform(ypos_min,ypos_max),0), \n",
    "        v=vector(random.uniform(-1,1),random.uniform(-1,1),0), \n",
    "        a=vector(0,0,0), \n",
    "        m=random.uniform(0.1, 9.9)*10e7\n",
    "    ) )"
   ]
  },
  {
   "cell_type": "code",
   "execution_count": 9,
   "metadata": {},
   "outputs": [],
   "source": [
    "def CaculateGravity():\n",
    "    for i in range(len(ball)):\n",
    "        ball[i].a=vector(0,0,0)\n",
    "        for j in range(len(ball)):\n",
    "            distance = mag(ball[j].pos-ball[i].pos)*scale\n",
    "            if distance==0:\n",
    "                distance = 0.01\n",
    "            ball[i].a += norm(ball[j].pos-ball[i].pos) * (G*ball[i].m*ball[j].m)/pow(distance,2)\n",
    "            \n",
    "def DetectWallBound():\n",
    "    for i in range(len(ball)):\n",
    "        if ball[i].pos.x<-border:\n",
    "            ball[i].pos.x=-border\n",
    "        if ball[i].pos.x>border:\n",
    "            ball[i].pos.x=border\n",
    "        if ball[i].pos.y<-border:\n",
    "            ball[i].pos.y=-border\n",
    "        if ball[i].pos.y>border:\n",
    "            ball[i].pos.y=border"
   ]
  },
  {
   "cell_type": "code",
   "execution_count": null,
   "metadata": {},
   "outputs": [],
   "source": [
    "while True:\n",
    "    rate(1000)\n",
    "    CaculateGravity()\n",
    "    for i in range(len(ball)):\n",
    "        ball[i].v += ball[i].a*dt\n",
    "        ball[i].pos += ball[i].v*dt\n",
    "    DetectWallBound()\n",
    "    t += dt"
   ]
  },
  {
   "cell_type": "code",
   "execution_count": null,
   "metadata": {},
   "outputs": [],
   "source": []
  },
  {
   "cell_type": "code",
   "execution_count": null,
   "metadata": {},
   "outputs": [],
   "source": []
  },
  {
   "cell_type": "code",
   "execution_count": null,
   "metadata": {},
   "outputs": [],
   "source": []
  }
 ],
 "metadata": {
  "kernelspec": {
   "display_name": "Python 3",
   "language": "python",
   "name": "python3"
  },
  "language_info": {
   "codemirror_mode": {
    "name": "ipython",
    "version": 3
   },
   "file_extension": ".py",
   "mimetype": "text/x-python",
   "name": "python",
   "nbconvert_exporter": "python",
   "pygments_lexer": "ipython3",
   "version": "3.8.5"
  }
 },
 "nbformat": 4,
 "nbformat_minor": 4
}
