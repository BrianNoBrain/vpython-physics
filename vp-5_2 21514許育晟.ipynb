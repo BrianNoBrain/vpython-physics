{
 "cells": [
  {
   "cell_type": "code",
   "execution_count": 112,
   "metadata": {},
   "outputs": [],
   "source": [
    "from vpython import *"
   ]
  },
  {
   "cell_type": "code",
   "execution_count": 113,
   "metadata": {},
   "outputs": [],
   "source": [
    "size = 0.5\n",
    "L = 20\n",
    "m = 1\n",
    "vx = 2\n",
    "vy = 10\n",
    "a = 9.8\n",
    "b = 0.05\n",
    "t = 0\n",
    "dt = 0.001"
   ]
  },
  {
   "cell_type": "code",
   "execution_count": 114,
   "metadata": {
    "scrolled": true
   },
   "outputs": [
    {
     "data": {
      "text/html": [
       "<div id=\"glowscript\" class=\"glowscript\"></div>"
      ],
      "text/plain": [
       "<IPython.core.display.HTML object>"
      ]
     },
     "metadata": {},
     "output_type": "display_data"
    },
    {
     "data": {
      "application/javascript": [
       "if (typeof Jupyter !== \"undefined\") { window.__context = { glowscript_container: $(\"#glowscript\").removeAttr(\"id\")};}else{ element.textContent = ' ';}"
      ],
      "text/plain": [
       "<IPython.core.display.Javascript object>"
      ]
     },
     "metadata": {},
     "output_type": "display_data"
    }
   ],
   "source": [
    "scene = canvas(title=\"3D Motion\", width=800, height=600, center=vec(0,L/2,0), background=vec(0.5,0.5,0.5))\n",
    "floor = box(pos=vec(0,0,0), size=vec(L,L/50,L/4), color=color.red)\n",
    "wall = box(pos=vec(L/2-L/50/2,L/4+L/50/2,0), size=vec(L/50,L/2,L/4), color=color.white, texture=\"data:image/jpeg;base64,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\")\n",
    "ball = sphere(pos=vec(-L*0.5,size+L/100,0), radius=size, color=color.green, v=vec(vx,vy,0), a=vec(0,-a,0), make_trail=True)\n",
    "gd = graph(title=\"plot\", width=600, height=400, x=0, y=600, xtitle=\"t(s)\", ytitle=\"red:y(m), blue:v.y(m/s)\")\n",
    "\n",
    "vt = gcurve(graph=gd, color=color.blue)\n",
    "yt = gcurve(graph=gd, color=color.red)"
   ]
  },
  {
   "cell_type": "markdown",
   "metadata": {},
   "source": [
    "## 軌跡不會碰到地面是因為軌跡是從球中心畫的而不是球邊緣"
   ]
  },
  {
   "cell_type": "code",
   "execution_count": null,
   "metadata": {},
   "outputs": [],
   "source": [
    "while(ball.pos.x >= -L/2):\n",
    "    rate(1000)\n",
    "    f = -b*ball.v\n",
    "    ball.a = vec(0,-a,0)+f/m\n",
    "    ball.v += (ball.a*dt)\n",
    "    ball.pos += (ball.v*dt)\n",
    "    if ball.pos.y <= size+L/100:\n",
    "        ball.v.y = abs(ball.v.y)\n",
    "    if ball.pos.x >= L/2-L/40/2-size:\n",
    "        ball.v.x = -ball.v.x\n",
    "    if ball.pos.x <= -L*0.5 and t!=0:\n",
    "        break\n",
    "    yt.plot(pos=(t,ball.pos.y))\n",
    "    vt.plot(pos=(t,ball.v.y))\n",
    "    t+=dt\n",
    "print(\"t=\", t)"
   ]
  },
  {
   "cell_type": "code",
   "execution_count": null,
   "metadata": {},
   "outputs": [],
   "source": []
  },
  {
   "cell_type": "code",
   "execution_count": null,
   "metadata": {},
   "outputs": [],
   "source": []
  }
 ],
 "metadata": {
  "kernelspec": {
   "display_name": "Python 3 (ipykernel)",
   "language": "python",
   "name": "python3"
  },
  "language_info": {
   "codemirror_mode": {
    "name": "ipython",
    "version": 3
   },
   "file_extension": ".py",
   "mimetype": "text/x-python",
   "name": "python",
   "nbconvert_exporter": "python",
   "pygments_lexer": "ipython3",
   "version": "3.9.13"
  }
 },
 "nbformat": 4,
 "nbformat_minor": 4
}
