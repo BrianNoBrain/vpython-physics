{
 "cells": [
  {
   "cell_type": "code",
   "execution_count": 73,
   "metadata": {},
   "outputs": [],
   "source": [
    "from vpython import *\n",
    "import math"
   ]
  },
  {
   "cell_type": "code",
   "execution_count": 74,
   "metadata": {},
   "outputs": [],
   "source": [
    "m = 2\n",
    "v0 = 5\n",
    "K = 15\n",
    "i = 0\n",
    "t = 0\n",
    "dt = 0.001"
   ]
  },
  {
   "cell_type": "code",
   "execution_count": 75,
   "metadata": {},
   "outputs": [
    {
     "data": {
      "text/html": [
       "<div id=\"glowscript\" class=\"glowscript\"></div>"
      ],
      "text/plain": [
       "<IPython.core.display.HTML object>"
      ]
     },
     "metadata": {},
     "output_type": "display_data"
    },
    {
     "data": {
      "application/javascript": [
       "if (typeof Jupyter !== \"undefined\") { window.__context = { glowscript_container: $(\"#glowscript\").removeAttr(\"id\")};}else{ element.textContent = ' ';}"
      ],
      "text/plain": [
       "<IPython.core.display.Javascript object>"
      ]
     },
     "metadata": {},
     "output_type": "display_data"
    },
    {
     "name": "stdout",
     "output_type": "stream",
     "text": [
      "R :1.8257418583505536\n",
      "a_max :2.2942948838181905\n"
     ]
    }
   ],
   "source": [
    "scene = canvas(width=800, height=600, background=vec(0.5,0.5,0.5))\n",
    "floor = box(size=vector(5,0.01,2), texture=textures.metal)\n",
    "\n",
    "wall = box(size=vector(0.01,1,2), texture=textures.metal)\n",
    "wall.pos = vec(-floor.size.x/2-wall.size.x/2, wall.size.y/2+floor.size.y/2, 0)\n",
    "\n",
    "square = box(size=vector(0.5,0.5,0.5), texture=textures.wood, v=vec(v0,0,0), a=vec(0,0,0))\n",
    "square.pos = vec(0, square.size.y/2+floor.size.y/2, 0)\n",
    "\n",
    "spring = helix(radius=0.1, colis=15, thickness=0.1)\n",
    "spring.pos = vec(wall.pos.x+0.01/2, square.pos.y, 0)\n",
    "spring.axis = square.pos-spring.pos\n",
    "spring.L0 = spring.length\n",
    "\n",
    "R = math.sqrt(m/K)*v0\n",
    "a_max = 2*math.pi*math.sqrt(m/K)\n",
    "print(\"R :\"+str(R))\n",
    "print(\"a_max :\"+str(a_max))"
   ]
  },
  {
   "cell_type": "code",
   "execution_count": 76,
   "metadata": {},
   "outputs": [],
   "source": [
    "gdx = graph(title=\"x-t plot\", width=400, height=200, x=0, y=400, xtitle=\"t(s)\", ytitle=\"x(m)\", xmax=20)\n",
    "xt = gcurve(graph=gdx, color=color.red)\n",
    "\n",
    "gdv = graph(title=\"v-t plot\", width=400, height=200, x=0, y=400, xtitle=\"t(s)\", ytitle=\"v(m/s)\", xmax=20)\n",
    "vt = gcurve(graph=gdv, color=color.blue)\n",
    "\n",
    "gda = graph(title=\"a-t plot\", width=400, height=200, x=0, y=400, xtitle=\"t(s)\", ytitle=\"a(m/s^2)\", xmax=20)\n",
    "at = gcurve(graph=gda, color=color.green)"
   ]
  },
  {
   "cell_type": "code",
   "execution_count": 77,
   "metadata": {},
   "outputs": [],
   "source": [
    "arrow_v = arrow(pos=square.pos, axis=square.v, shaftwidth=0.1, color=color.yellow)\n",
    "arrow_a = arrow(pos=square.pos, axis=square.a, shaftwidth=0.1, color=color.green)\n",
    "label_v = label(pos=square.pos, text=square.v, box=0)\n",
    "label_a = label(pos=square.pos, text=square.a, box=0)"
   ]
  },
  {
   "cell_type": "code",
   "execution_count": null,
   "metadata": {},
   "outputs": [],
   "source": [
    "while(1):\n",
    "    rate(1000)\n",
    "    square.a = (-K*(spring.length-spring.L0)*spring.axis.norm())/m\n",
    "    square.v += square.a*dt\n",
    "    square.pos += square.v*dt\n",
    "    \n",
    "    spring.axis = square.pos-spring.pos\n",
    "    \n",
    "    arrow_v.pos = square.pos\n",
    "    arrow_v.axis = square.v/2\n",
    "    label_v.pos = square.pos+arrow_v.axis/2\n",
    "    label_v.text = \"v :\"+str(square.v)\n",
    "    arrow_a.pos = square.pos\n",
    "    arrow_a.axis = square.a/2\n",
    "    label_a.pos = square.pos+arrow_a.axis/2\n",
    "    label_a.text = \"a :\"+str(square.a)\n",
    "    \n",
    "    xt.plot(pos=(t,square.pos.x))\n",
    "    vt.plot(pos=(t,square.v.x))\n",
    "    at.plot(pos=(t,square.a.x))\n",
    "    \n",
    "    t += dt"
   ]
  },
  {
   "cell_type": "code",
   "execution_count": null,
   "metadata": {},
   "outputs": [],
   "source": []
  }
 ],
 "metadata": {
  "kernelspec": {
   "display_name": "Python 3",
   "language": "python",
   "name": "python3"
  },
  "language_info": {
   "codemirror_mode": {
    "name": "ipython",
    "version": 3
   },
   "file_extension": ".py",
   "mimetype": "text/x-python",
   "name": "python",
   "nbconvert_exporter": "python",
   "pygments_lexer": "ipython3",
   "version": "3.8.5"
  }
 },
 "nbformat": 4,
 "nbformat_minor": 4
}
