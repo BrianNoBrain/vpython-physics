{
 "cells": [
  {
   "cell_type": "markdown",
   "metadata": {},
   "source": [
    "### example"
   ]
  },
  {
   "cell_type": "code",
   "execution_count": 22,
   "metadata": {},
   "outputs": [
    {
     "data": {
      "text/html": [
       "<div id=\"glowscript\" class=\"glowscript\"></div>"
      ],
      "text/plain": [
       "<IPython.core.display.HTML object>"
      ]
     },
     "metadata": {},
     "output_type": "display_data"
    },
    {
     "data": {
      "application/javascript": [
       "if (typeof Jupyter !== \"undefined\") { window.__context = { glowscript_container: $(\"#glowscript\").removeAttr(\"id\")};}else{ element.textContent = ' ';}"
      ],
      "text/plain": [
       "<IPython.core.display.Javascript object>"
      ]
     },
     "metadata": {},
     "output_type": "display_data"
    },
    {
     "name": "stdout",
     "output_type": "stream",
     "text": [
      "t = 30.00000000000189\n"
     ]
    }
   ],
   "source": [
    "from vpython import *\n",
    "\n",
    "size = 0.1\n",
    "L = 1\n",
    "v = 0.03\n",
    "t = 0\n",
    "dt = 0.01\n",
    "\n",
    "scene = canvas(title=\"1D Motion\", width=800, height=600, x=0, y=0, center=vec(0,0.1,0), background=vec(0,0.6,0.6))\n",
    "floor = box(pos=vec(0,0,0), size=vec(L,0.1*size,0.5*L), color=color.blue)\n",
    "cube = box(pos=vec(-0.5*L+0.5*size,0.55*size,0), size=vec(size,size,size), color=color.red, v=vec(v,0,0))\n",
    "\n",
    "gd = graph(title=\"x-t plot\", width=600, height=400, x=0, y=600, xtitle=\"t(s)\", ytitle=\"x(m)\")\n",
    "xt = gcurve(graph=gd, color=color.red)\n",
    "\n",
    "while(cube.pos.x < (0.5*L-0.5*size)):\n",
    "    rate(500)\n",
    "    cube.pos += cube.v*dt\n",
    "    xt.plot(pos=(t, cube.pos.x))\n",
    "    t += dt\n",
    "print(\"t =\", t)"
   ]
  },
  {
   "cell_type": "markdown",
   "metadata": {},
   "source": [
    "### PRACTICE"
   ]
  },
  {
   "cell_type": "code",
   "execution_count": 23,
   "metadata": {},
   "outputs": [],
   "source": [
    "from vpython import *"
   ]
  },
  {
   "cell_type": "code",
   "execution_count": 24,
   "metadata": {},
   "outputs": [],
   "source": [
    "size = 0.1\n",
    "L = 1\n",
    "v = -0.08\n",
    "a = 0.004\n",
    "t = 0\n",
    "dt = 0.01"
   ]
  },
  {
   "cell_type": "code",
   "execution_count": 25,
   "metadata": {
    "scrolled": true
   },
   "outputs": [
    {
     "data": {
      "text/html": [
       "<div id=\"glowscript\" class=\"glowscript\"></div>"
      ],
      "text/plain": [
       "<IPython.core.display.HTML object>"
      ]
     },
     "metadata": {},
     "output_type": "display_data"
    },
    {
     "data": {
      "application/javascript": [
       "if (typeof Jupyter !== \"undefined\") { window.__context = { glowscript_container: $(\"#glowscript\").removeAttr(\"id\")};}else{ element.textContent = ' ';}"
      ],
      "text/plain": [
       "<IPython.core.display.Javascript object>"
      ]
     },
     "metadata": {},
     "output_type": "display_data"
    }
   ],
   "source": [
    "scene = canvas(title=\"1D Motion\", width=800, height=600, x=0, y=0, center=vec(0,0.1,0), background=vec(0,0.6,0.6))\n",
    "floor = box(pos=vec(0,0,0), size=vec(L,0.1*size,0.5*L), color=color.blue)\n",
    "cube = box(pos=vec(0.5*L-0.5*size,0.55*size,0), size=vec(size,size,size), color=color.red, v=vec(v,0,0), a=vec(a,0,0))"
   ]
  },
  {
   "cell_type": "code",
   "execution_count": 26,
   "metadata": {
    "scrolled": true
   },
   "outputs": [],
   "source": [
    "gd_x = graph(title=\"x-t plot\", width=600, height=400, x=0, y=600, xtitle=\"t(s)\", ytitle=\"x(m)\")\n",
    "xt = gcurve(graph=gd_x, color=color.red)\n",
    "\n",
    "gd_v = graph(title=\"v-t plot\", width=600, height=400, x=0, y=600, xtitle=\"t(s)\", ytitle=\"v(m)\")\n",
    "vt = gcurve(graph=gd_v, color=color.red)\n",
    "\n",
    "gd_a = graph(title=\"a-t plot\", width=600, height=400, x=0, y=600, xtitle=\"t(s)\", ytitle=\"a(m)\")\n",
    "at = gcurve(graph=gd_a, color=color.red)"
   ]
  },
  {
   "cell_type": "code",
   "execution_count": 27,
   "metadata": {},
   "outputs": [
    {
     "name": "stdout",
     "output_type": "stream",
     "text": [
      "t = 40.02000000000061\n"
     ]
    }
   ],
   "source": [
    "while(cube.pos.x >= (0.5*L-0.5*size)):\n",
    "    rate(500)\n",
    "    cube.pos += cube.v*dt\n",
    "    cube.v += cube.a*dt\n",
    "    xt.plot(pos=(t, cube.pos.x))\n",
    "    vt.plot(pos=(t, cube.v.x))\n",
    "    at.plot(pos=(t, cube.a.x))\n",
    "    t += dt\n",
    "while(cube.pos.x < (0.5*L-0.5*size)):\n",
    "    rate(500)\n",
    "    cube.pos += cube.v*dt\n",
    "    cube.v += cube.a*dt\n",
    "    xt.plot(pos=(t, cube.pos.x))\n",
    "    vt.plot(pos=(t, cube.v.x))\n",
    "    at.plot(pos=(t, cube.a.x))\n",
    "    t += dt\n",
    "print(\"t =\", t)"
   ]
  },
  {
   "cell_type": "code",
   "execution_count": null,
   "metadata": {},
   "outputs": [],
   "source": []
  }
 ],
 "metadata": {
  "kernelspec": {
   "display_name": "Python 3",
   "language": "python",
   "name": "python3"
  },
  "language_info": {
   "codemirror_mode": {
    "name": "ipython",
    "version": 3
   },
   "file_extension": ".py",
   "mimetype": "text/x-python",
   "name": "python",
   "nbconvert_exporter": "python",
   "pygments_lexer": "ipython3",
   "version": "3.8.5"
  }
 },
 "nbformat": 4,
 "nbformat_minor": 4
}
