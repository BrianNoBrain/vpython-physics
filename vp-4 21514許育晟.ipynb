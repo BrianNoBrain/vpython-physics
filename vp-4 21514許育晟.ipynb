{
 "cells": [
  {
   "cell_type": "code",
   "execution_count": 1,
   "metadata": {},
   "outputs": [
    {
     "data": {
      "text/html": [
       "<div id=\"glowscript\" class=\"glowscript\"></div>"
      ],
      "text/plain": [
       "<IPython.core.display.HTML object>"
      ]
     },
     "metadata": {},
     "output_type": "display_data"
    },
    {
     "data": {
      "application/javascript": [
       "if (typeof Jupyter !== \"undefined\") { window.__context = { glowscript_container: $(\"#glowscript\").removeAttr(\"id\")};}else{ element.textContent = ' ';}"
      ],
      "text/plain": [
       "<IPython.core.display.Javascript object>"
      ]
     },
     "metadata": {},
     "output_type": "display_data"
    }
   ],
   "source": [
    "from vpython import *\n",
    "from math import *"
   ]
  },
  {
   "cell_type": "code",
   "execution_count": 7,
   "metadata": {},
   "outputs": [],
   "source": [
    "size = 0.5\n",
    "L = 5\n",
    "H = 5\n",
    "vy = 0\n",
    "a = -9.8\n",
    "t = 0\n",
    "dt = 0.001\n",
    "count = 0"
   ]
  },
  {
   "cell_type": "code",
   "execution_count": 11,
   "metadata": {},
   "outputs": [],
   "source": [
    "def getTheoryTime(h, a):\n",
    "    v0 = sqrt(abs(2*a*h)) #第一次的初速度\n",
    "    Sv = v0*(1-pow(0.9,20))/(1-0.9) #等比級數和\n",
    "    t = Sv/abs(a)*2-sqrt(abs(h*2/a)) #由速度和算出時間和再減掉第一次的時間\n",
    "    \n",
    "    return t"
   ]
  },
  {
   "cell_type": "markdown",
   "metadata": {},
   "source": [
    "$S_{n}=\\frac{v_0\\times \\left ( 1-0.9^{20} \\right )}{1-0.9}$"
   ]
  },
  {
   "cell_type": "code",
   "execution_count": 9,
   "metadata": {},
   "outputs": [
    {
     "data": {
      "text/html": [
       "<div id=\"glowscript\" class=\"glowscript\"></div>"
      ],
      "text/plain": [
       "<IPython.core.display.HTML object>"
      ]
     },
     "metadata": {},
     "output_type": "display_data"
    },
    {
     "data": {
      "application/javascript": [
       "if (typeof Jupyter !== \"undefined\") { window.__context = { glowscript_container: $(\"#glowscript\").removeAttr(\"id\")};}else{ element.textContent = ' ';}"
      ],
      "text/plain": [
       "<IPython.core.display.Javascript object>"
      ]
     },
     "metadata": {},
     "output_type": "display_data"
    }
   ],
   "source": [
    "scene = canvas(title=\"falling\", width=800, height=600, center=vec(0,H/2,0), background=vec(0.5,0.5,0.5))\n",
    "floor = box(pos=vec(0,0,0), size=vec(L,0.1*L,L/2), color=color.blue)\n",
    "ball = sphere(pos=vec(0,H+size+L/20,0), radius=size, color=color.red, v=vec(0,vy,0), a=vec(0,a,0))\n",
    "\n",
    "yx_gd = graph(title=\"y-t plot\", width=600, height=400, x=0, y=600, xtitle=\"t(s)\", ytitle=\"y(m)\")\n",
    "yv_gd = graph(title=\"v-t plot\", width=600, height=400, x=0, y=600, xtitle=\"t(s)\", ytitle=\"v(m/s)\")\n",
    "ya_gd = graph(title=\"a-t plot\", width=600, height=400, x=0, y=600, xtitle=\"t(s)\", ytitle=\"a(m/s^2)\")\n",
    "\n",
    "yxt = gcurve(graph=yx_gd, color=color.red)\n",
    "yvt = gcurve(graph=yv_gd, color=color.red)\n",
    "yat = gcurve(graph=ya_gd, color=color.red)"
   ]
  },
  {
   "cell_type": "code",
   "execution_count": 10,
   "metadata": {},
   "outputs": [
    {
     "name": "stdout",
     "output_type": "stream",
     "text": [
      "t= 16.23599999999686\n",
      "Theory Time= 16.736679006635836\n"
     ]
    }
   ],
   "source": [
    "while(count<20):\n",
    "    rate(1000)\n",
    "    ball.v.y += (ball.a.y*dt)\n",
    "    ball.pos.y += (ball.v.y*dt)\n",
    "    if ball.pos.y-floor.pos.y <= size+L/20:\n",
    "        ball.v.y = abs(ball.v.y)*0.9\n",
    "        count+=1\n",
    "    \n",
    "    yxt.plot(pos=(t, ball.pos.y))\n",
    "    yvt.plot(pos=(t, ball.v.y))\n",
    "    yat.plot(pos=(t, ball.a.y))\n",
    "    \n",
    "    t+=dt\n",
    "\n",
    "print(\"t=\", t)\n",
    "print(\"Theory Time=\", getTheoryTime(H, a))"
   ]
  }
 ],
 "metadata": {
  "kernelspec": {
   "display_name": "Python 3",
   "language": "python",
   "name": "python3"
  },
  "language_info": {
   "codemirror_mode": {
    "name": "ipython",
    "version": 3
   },
   "file_extension": ".py",
   "mimetype": "text/x-python",
   "name": "python",
   "nbconvert_exporter": "python",
   "pygments_lexer": "ipython3",
   "version": "3.8.5"
  }
 },
 "nbformat": 4,
 "nbformat_minor": 4
}
